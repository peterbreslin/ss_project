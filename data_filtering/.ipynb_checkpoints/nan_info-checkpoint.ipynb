{
 "cells": [
  {
   "cell_type": "code",
   "execution_count": 1,
   "metadata": {},
   "outputs": [],
   "source": [
    "# Packages\n",
    "import pandas as pd"
   ]
  },
  {
   "cell_type": "code",
   "execution_count": 2,
   "metadata": {},
   "outputs": [],
   "source": [
    "# Defining the path for the dataframe\n",
    "dataframe = 'C:/Users/Peter/py_projects/solar_stats/cdaw_cme_flare_ar_smart_database.p'\n",
    "\n",
    "# Importing the dataframe \n",
    "df = pd.read_pickle(dataframe)"
   ]
  },
  {
   "cell_type": "markdown",
   "metadata": {},
   "source": [
    "### CME data"
   ]
  },
  {
   "cell_type": "code",
   "execution_count": 5,
   "metadata": {},
   "outputs": [],
   "source": [
    "# Making a dataframe containing the CME data only\n",
    "dfcme = df[['cme_time',\n",
    "            'cme_angle',\n",
    "            'cme_width',\n",
    "            'cme_speed',\n",
    "            'initial_2nd_order',\n",
    "            'final_2nd_order',\n",
    "            '20r_2nd_order',\n",
    "            'cme_acceleration',\n",
    "            'cme_mass',\n",
    "            'cme_kinetic_energy',\n",
    "            'cme_mpa',\n",
    "            'cme_remarks',\n",
    "            'cme_quality',\n",
    "            'cme_halo']]"
   ]
  },
  {
   "cell_type": "code",
   "execution_count": 13,
   "metadata": {
    "scrolled": true
   },
   "outputs": [
    {
     "name": "stdout",
     "output_type": "stream",
     "text": [
      "cme_mpa: 30228 with 0 NaNs\n",
      "cme_time: 30228 with 0 NaNs\n",
      "cme_mass: 19679 with 10549 NaNs\n",
      "cme_halo: 30228 with 0 NaNs\n",
      "cme_angle: 29507 with 721 NaNs\n",
      "cme_width: 30228 with 0 NaNs\n",
      "cme_speed: 30125 with 103 NaNs\n",
      "cme_remarks: 30228 with 0 NaNs\n",
      "cme_quality: 30228 with 0 NaNs\n",
      "initial_2nd_order: 29760 with 468 NaNs\n",
      "final_2nd_order: 29760 with 468 NaNs\n",
      "20r_2nd_order: 29760 with 468 NaNs\n",
      "cme_acceleration: 29760 with 468 NaNs\n",
      "cme_kinetic_energy: 19647 with 10581 NaNs\n"
     ]
    }
   ],
   "source": [
    "# Looking at how many NANs there are\n",
    "print('cme_mpa: ' + str( dfcme['cme_mpa'].count() ) + ' with ' + str( dfcme['cme_mpa'].isnull().sum() ) + ' NaNs' )\n",
    "\n",
    "print('cme_time: ' + str( dfcme['cme_time'].count() ) + ' with ' + str( dfcme['cme_time'].isnull().sum() ) + ' NaNs' )\n",
    "print('cme_mass: ' + str( dfcme['cme_mass'].count() ) + ' with ' + str( dfcme['cme_mass'].isnull().sum() ) + ' NaNs' )\n",
    "print('cme_halo: ' + str( dfcme['cme_halo'].count() ) + ' with ' + str( dfcme['cme_halo'].isnull().sum() ) + ' NaNs' )\n",
    "\n",
    "print('cme_angle: ' + str( dfcme['cme_angle'].count() ) + ' with ' + str( dfcme['cme_angle'].isnull().sum() ) + ' NaNs' )\n",
    "print('cme_width: ' + str( dfcme['cme_width'].count() ) + ' with ' + str( dfcme['cme_width'].isnull().sum() ) + ' NaNs' )\n",
    "print('cme_speed: ' + str( dfcme['cme_speed'].count() ) + ' with ' + str( dfcme['cme_speed'].isnull().sum() ) + ' NaNs' )\n",
    "\n",
    "print('cme_remarks: ' + str( dfcme['cme_remarks'].count() ) + ' with ' + str( dfcme['cme_remarks'].isnull().sum() ) + ' NaNs' )\n",
    "print('cme_quality: ' + str( dfcme['cme_quality'].count() ) + ' with ' + str( dfcme['cme_quality'].isnull().sum() ) + ' NaNs' )\n",
    "\n",
    "print('initial_2nd_order: ' + str( dfcme['initial_2nd_order'].count() ) + ' with ' + \n",
    "      str( dfcme['initial_2nd_order'].isnull().sum() ) + ' NaNs' )\n",
    "\n",
    "print('final_2nd_order: ' + str( dfcme['final_2nd_order'].count() ) + ' with ' + \n",
    "      str( dfcme['final_2nd_order'].isnull().sum() ) + ' NaNs' )\n",
    "\n",
    "print('20r_2nd_order: ' + str( dfcme['20r_2nd_order'].count() ) + ' with ' + \n",
    "      str( dfcme['20r_2nd_order'].isnull().sum() ) + ' NaNs' )\n",
    "\n",
    "print('cme_acceleration: ' + str( dfcme['cme_acceleration'].count() ) + ' with ' + \n",
    "      str( dfcme['cme_acceleration'].isnull().sum() ) + ' NaNs' )\n",
    "\n",
    "print('cme_kinetic_energy: ' + str( dfcme['cme_kinetic_energy'].count() ) + ' with ' + \n",
    "      str( dfcme['cme_kinetic_energy'].isnull().sum() ) + ' NaNs' )"
   ]
  },
  {
   "cell_type": "markdown",
   "metadata": {},
   "source": [
    "### Flare data"
   ]
  },
  {
   "cell_type": "code",
   "execution_count": 15,
   "metadata": {
    "scrolled": true
   },
   "outputs": [],
   "source": [
    "# Making a dataframe conatining the flare data only\n",
    "dff = df[['flare_window_start',\n",
    "          'flare_window_end',\n",
    "          'flare_type',\n",
    "          'flare_start_time',\n",
    "          'flare_peak_time',\n",
    "          'flare_end_time',\n",
    "          'flare_string_latlon',\n",
    "          'flare_hg_latitude',\n",
    "          'flare_hg_longitude',\n",
    "          'flare_hcx_position',\n",
    "          'flare_hcy_position',\n",
    "          'flare_goes_class',\n",
    "          'flare_active_region_no']]"
   ]
  },
  {
   "cell_type": "code",
   "execution_count": 18,
   "metadata": {
    "scrolled": true
   },
   "outputs": [
    {
     "name": "stdout",
     "output_type": "stream",
     "text": [
      "flare_window_start: 30228 with 0 NaNs\n",
      "flare_window_end: 30228 with 0 NaNs\n",
      "flare_type: 16552 with 13676 NaNs\n",
      "flare_start_time: 16552 with 13676 NaNs\n",
      "flare_peak_time: 16547 with 13681 NaNs\n",
      "flare_end_time: 16552 with 13676 NaNs\n",
      "flare_string_latlon: 6081 with 24147 NaNs\n",
      "flare_hg_latitude: 8044 with 22184 NaNs\n",
      "flare_hg_longitude: 8044 with 22184 NaNs\n",
      "flare_hcx_position: 5749 with 24479 NaNs\n",
      "flare_hcy_position: 5749 with 24479 NaNs\n",
      "flare_goes_class: 10786 with 19442 NaNs\n",
      "flare_active_region_no: 12113 with 18115 NaNs\n"
     ]
    }
   ],
   "source": [
    "# Looking at how many NANs there are\n",
    "print('flare_window_start: ' + str( dff['flare_window_start'].count() ) + ' with ' + \n",
    "      str( dff['flare_window_start'].isnull().sum() ) + ' NaNs' )\n",
    "\n",
    "print('flare_window_end: ' + str( dff['flare_window_end'].count() ) + ' with ' + \n",
    "      str( dff['flare_window_end'].isnull().sum() ) + ' NaNs' )\n",
    "\n",
    "print('flare_type: ' + str( dff['flare_type'].count() ) + ' with ' + \n",
    "      str( dff['flare_type'].isnull().sum() ) + ' NaNs' )\n",
    "\n",
    "print('flare_start_time: ' + str( dff['flare_start_time'].count() ) + ' with ' + \n",
    "      str( dff['flare_start_time'].isnull().sum() ) + ' NaNs' )\n",
    "\n",
    "print('flare_peak_time: ' + str( dff['flare_peak_time'].count() ) + ' with ' + \n",
    "      str( dff['flare_peak_time'].isnull().sum() ) + ' NaNs' )\n",
    "\n",
    "print('flare_end_time: ' + str( dff['flare_end_time'].count() ) + ' with ' + \n",
    "      str( dff['flare_end_time'].isnull().sum() ) + ' NaNs' )\n",
    "\n",
    "print('flare_string_latlon: ' + str( dff['flare_string_latlon'].count() ) + ' with ' + \n",
    "      str( dff['flare_string_latlon'].isnull().sum() ) + ' NaNs' )\n",
    "\n",
    "print('flare_hg_latitude: ' + str( dff['flare_hg_latitude'].count() ) + ' with ' + \n",
    "      str( dff['flare_hg_latitude'].isnull().sum() ) + ' NaNs' )\n",
    "\n",
    "print('flare_hg_longitude: ' + str( dff['flare_hg_longitude'].count() ) + ' with ' + \n",
    "      str( dff['flare_hg_longitude'].isnull().sum() ) + ' NaNs' )\n",
    "\n",
    "print('flare_hcx_position: ' + str( dff['flare_hcx_position'].count() ) + ' with ' + \n",
    "      str( dff['flare_hcx_position'].isnull().sum() ) + ' NaNs' )\n",
    "\n",
    "print('flare_hcy_position: ' + str( dff['flare_hcy_position'].count() ) + ' with ' + \n",
    "      str( dff['flare_hcy_position'].isnull().sum() ) + ' NaNs' )\n",
    "\n",
    "print('flare_goes_class: ' + str( dff['flare_goes_class'].count() ) + ' with ' + \n",
    "      str( dff['flare_goes_class'].isnull().sum() ) + ' NaNs' )\n",
    "\n",
    "print('flare_active_region_no: ' + str( dff['flare_active_region_no'].count() ) + ' with ' + \n",
    "      str( dff['flare_active_region_no'].isnull().sum() ) + ' NaNs' )"
   ]
  },
  {
   "cell_type": "markdown",
   "metadata": {},
   "source": [
    "### SRS data"
   ]
  },
  {
   "cell_type": "code",
   "execution_count": 23,
   "metadata": {},
   "outputs": [],
   "source": [
    "# Making a dataframe containing the SRS data only\n",
    "dfsrs = df[['srs_observation_time',\n",
    "          'srs_active_region_no',\n",
    "          'srs_string_latlon',\n",
    "          'srs_hg_latitude',\n",
    "          'srs_hg_longitude',\n",
    "          'srs_lon_extent',\n",
    "          'srs_carrington_lon',\n",
    "          'srs_no_spots',\n",
    "          'srs_mcintosh',\n",
    "          'srs_area',\n",
    "          'srs_hale']]"
   ]
  },
  {
   "cell_type": "code",
   "execution_count": 24,
   "metadata": {},
   "outputs": [
    {
     "name": "stdout",
     "output_type": "stream",
     "text": [
      "srs_observation_time: 7385 with 22843 NaNs\n",
      "srs_active_region_no: 7385 with 22843 NaNs\n",
      "srs_string_latlon: 7385 with 22843 NaNs\n",
      "srs_hg_latitude: 7385 with 22843 NaNs\n",
      "srs_hg_longitude: 7385 with 22843 NaNs\n",
      "srs_lon_extent: 7385 with 22843 NaNs\n",
      "srs_carrington_lon: 7385 with 22843 NaNs\n",
      "srs_no_spots: 7385 with 22843 NaNs\n",
      "srs_mcintosh: 7385 with 22843 NaNs\n",
      "srs_area: 7385 with 22843 NaNs\n",
      "srs_hale: 7385 with 22843 NaNs\n"
     ]
    }
   ],
   "source": [
    "# Looking at how many NANs there are\n",
    "print('srs_observation_time: ' + str( dfsrs['srs_observation_time'].count() ) + ' with ' + \n",
    "      str( dfsrs['srs_observation_time'].isnull().sum() ) + ' NaNs' )\n",
    "\n",
    "print('srs_active_region_no: ' + str( dfsrs['srs_active_region_no'].count() ) + ' with ' + \n",
    "      str( dfsrs['srs_active_region_no'].isnull().sum() ) + ' NaNs' )\n",
    "\n",
    "print('srs_string_latlon: ' + str( dfsrs['srs_string_latlon'].count() ) + ' with ' + \n",
    "      str( dfsrs['srs_string_latlon'].isnull().sum() ) + ' NaNs' )\n",
    "\n",
    "print('srs_hg_latitude: ' + str( dfsrs['srs_hg_latitude'].count() ) + ' with ' + \n",
    "      str( dfsrs['srs_hg_latitude'].isnull().sum() ) + ' NaNs' )\n",
    "\n",
    "print('srs_hg_longitude: ' + str( dfsrs['srs_hg_longitude'].count() ) + ' with ' + \n",
    "      str( dfsrs['srs_hg_longitude'].isnull().sum() ) + ' NaNs' )\n",
    "\n",
    "print('srs_lon_extent: ' + str( dfsrs['srs_lon_extent'].count() ) + ' with ' + \n",
    "      str( dfsrs['srs_lon_extent'].isnull().sum() ) + ' NaNs' )\n",
    "\n",
    "print('srs_carrington_lon: ' + str( dfsrs['srs_carrington_lon'].count() ) + ' with ' + \n",
    "      str( dfsrs['srs_carrington_lon'].isnull().sum() ) + ' NaNs' )\n",
    "\n",
    "print('srs_no_spots: ' + str( dfsrs['srs_no_spots'].count() ) + ' with ' + \n",
    "      str( dfsrs['srs_no_spots'].isnull().sum() ) + ' NaNs' )\n",
    "\n",
    "print('srs_mcintosh: ' + str( dfsrs['srs_mcintosh'].count() ) + ' with ' + \n",
    "      str( dfsrs['srs_mcintosh'].isnull().sum() ) + ' NaNs' )\n",
    "\n",
    "print('srs_area: ' + str( dfsrs['srs_area'].count() ) + ' with ' + \n",
    "      str( dfsrs['srs_area'].isnull().sum() ) + ' NaNs' )\n",
    "\n",
    "print('srs_hale: ' + str( dfsrs['srs_hale'].count() ) + ' with ' + \n",
    "      str( dfsrs['srs_hale'].isnull().sum() ) + ' NaNs' )"
   ]
  },
  {
   "cell_type": "markdown",
   "metadata": {},
   "source": [
    "### SMART data"
   ]
  },
  {
   "cell_type": "code",
   "execution_count": 25,
   "metadata": {},
   "outputs": [],
   "source": [
    "# Making a dataframe containing the SMART data only\n",
    "dfs = df[['smart_observation_time',\n",
    "          'smart_limb_event',\n",
    "          'smart_string_latlon',\n",
    "          'smart_hg_latitude',\n",
    "          'smart_hg_longitude',\n",
    "          'smart_hcx_position',\n",
    "          'smart_hcy_position',\n",
    "          'smart_total_area',\n",
    "          'smart_negative_area',\n",
    "          'smart_positive_area',\n",
    "          'smart_total_flux',\n",
    "          'smart_negative_flux',\n",
    "          'smart_positive_flux',\n",
    "          'smart_flux_fraction',\n",
    "          'smart_b_min',\n",
    "          'smart_b_max',\n",
    "          'smart_b_mean',\n",
    "          'smart_bipole_separation',\n",
    "          'smart_psl_length',\n",
    "          'smart_r_value',\n",
    "          'smart_wlsg']]"
   ]
  },
  {
   "cell_type": "code",
   "execution_count": 47,
   "metadata": {},
   "outputs": [
    {
     "name": "stdout",
     "output_type": "stream",
     "text": [
      "smart_observation_time:     6681 with 23547 NaNs\n",
      "smart_limb_event:           6681 with 23547 NaNs\n",
      "smart_string_latlon:        6681 with 23547 NaNs\n",
      "smart_hg_latitude:          6681 with 23547 NaNs\n",
      "smart_hg_longitude:         6681 with 23547 NaNs\n",
      "smart_hcx_position:         6681 with 23547 NaNs\n",
      "smart_hcy_position:         6681 with 23547 NaNs\n",
      "smart_total_area:           6681 with 23547 NaNs\n",
      "smart_negative_area:        6681 with 23547 NaNs\n",
      "smart_positive_area:        6681 with 23547 NaNs\n",
      "smart_total_flux:           6681 with 23547 NaNs\n",
      "smart_negative_flux:        6681 with 23547 NaNs\n",
      "smart_positive_flux:        6681 with 23547 NaNs\n",
      "smart_flux_fraction:        6681 with 23547 NaNs\n",
      "smart_b_min:                6681 with 23547 NaNs\n",
      "smart_b_max:                6681 with 23547 NaNs\n",
      "smart_b_mean:               6681 with 23547 NaNs\n",
      "smart_bipole_separation:    6681 with 23547 NaNs\n",
      "smart_psl_length:           6681 with 23547 NaNs\n",
      "smart_r_value:              6681 with 23547 NaNs\n",
      "smart_wlsg:                 6681 with 23547 NaNs\n"
     ]
    }
   ],
   "source": [
    "# Looking at how many NANs there are\n",
    "print('smart_observation_time:     ' + str( dfs['smart_observation_time'].count() ) + ' with ' + \n",
    "      str( dfs['smart_observation_time'].isnull().sum() ) + ' NaNs' )\n",
    "\n",
    "print('smart_limb_event:           ' + str( dfs['smart_limb_event'].count() ) + ' with ' + \n",
    "      str( dfs['smart_limb_event'].isnull().sum() ) + ' NaNs' )\n",
    "\n",
    "print('smart_string_latlon:        ' + str( dfs['smart_string_latlon'].count() ) + ' with ' + \n",
    "      str( dfs['smart_string_latlon'].isnull().sum() ) + ' NaNs' )\n",
    "\n",
    "print('smart_hg_latitude:          ' + str( dfs['smart_hg_latitude'].count() ) + ' with ' + \n",
    "      str( dfs['smart_hg_latitude'].isnull().sum() ) + ' NaNs' )\n",
    "\n",
    "print('smart_hg_longitude:         ' + str( dfs['smart_hg_longitude'].count() ) + ' with ' + \n",
    "      str( dfs['smart_hg_longitude'].isnull().sum() ) + ' NaNs' )\n",
    "\n",
    "print('smart_hcx_position:         ' + str( dfs['smart_hcx_position'].count() ) + ' with ' + \n",
    "      str( dfs['smart_hcx_position'].isnull().sum() ) + ' NaNs' )\n",
    "\n",
    "print('smart_hcy_position:         ' + str( dfs['smart_hcy_position'].count() ) + ' with ' + \n",
    "      str( dfs['smart_hcy_position'].isnull().sum() ) + ' NaNs' )\n",
    "\n",
    "print('smart_total_area:           ' + str( dfs['smart_total_area'].count() ) + ' with ' + \n",
    "      str( dfs['smart_total_area'].isnull().sum() ) + ' NaNs' )\n",
    "\n",
    "print('smart_negative_area:        ' + str( dfs['smart_negative_area'].count() ) + ' with ' + \n",
    "      str( dfs['smart_negative_area'].isnull().sum() ) + ' NaNs' )\n",
    "\n",
    "print('smart_positive_area:        ' + str( dfs['smart_positive_area'].count() ) + ' with ' + \n",
    "      str( dfs['smart_positive_area'].isnull().sum() ) + ' NaNs' )\n",
    "\n",
    "print('smart_total_flux:           ' + str( dfs['smart_total_flux'].count() ) + ' with ' + \n",
    "      str( dfs['smart_total_flux'].isnull().sum() ) + ' NaNs' )\n",
    "\n",
    "print('smart_negative_flux:        ' + str( dfs['smart_negative_flux'].count() ) + ' with ' + \n",
    "      str( dfs['smart_negative_flux'].isnull().sum() ) + ' NaNs' )\n",
    "\n",
    "print('smart_positive_flux:        ' + str( dfs['smart_positive_flux'].count() ) + ' with ' + \n",
    "      str( dfs['smart_positive_flux'].isnull().sum() ) + ' NaNs' )\n",
    "\n",
    "print('smart_flux_fraction:        ' + str( dfs['smart_flux_fraction'].count() ) + ' with ' + \n",
    "      str( dfs['smart_flux_fraction'].isnull().sum() ) + ' NaNs' )\n",
    "\n",
    "print('smart_b_min:                ' + str( dfs['smart_b_min'].count() ) + ' with ' + \n",
    "      str( dfs['smart_b_min'].isnull().sum() ) + ' NaNs' )\n",
    "\n",
    "print('smart_b_max:                ' + str( dfs['smart_b_max'].count() ) + ' with ' + \n",
    "      str( dfs['smart_b_max'].isnull().sum() ) + ' NaNs' )\n",
    "\n",
    "print('smart_b_mean:               ' + str( dfs['smart_b_mean'].count() ) + ' with ' + \n",
    "      str( dfs['smart_b_mean'].isnull().sum() ) + ' NaNs' )\n",
    "\n",
    "print('smart_bipole_separation:    ' + str( dfs['smart_bipole_separation'].count() ) + ' with ' + \n",
    "      str( dfs['smart_bipole_separation'].isnull().sum() ) + ' NaNs' )\n",
    "\n",
    "print('smart_psl_length:           ' + str( dfs['smart_psl_length'].count() ) + ' with ' + \n",
    "      str( dfs['smart_psl_length'].isnull().sum() ) + ' NaNs' )\n",
    "\n",
    "print('smart_r_value:              ' + str( dfs['smart_r_value'].count() ) + ' with ' + \n",
    "      str( dfs['smart_r_value'].isnull().sum() ) + ' NaNs' )\n",
    "\n",
    "print('smart_wlsg:                 ' + str( dfs['smart_wlsg'].count() ) + ' with ' + \n",
    "      str( dfs['smart_wlsg'].isnull().sum() ) + ' NaNs' )"
   ]
  }
 ],
 "metadata": {
  "kernelspec": {
   "display_name": "Python 3",
   "language": "python",
   "name": "python3"
  },
  "language_info": {
   "codemirror_mode": {
    "name": "ipython",
    "version": 3
   },
   "file_extension": ".py",
   "mimetype": "text/x-python",
   "name": "python",
   "nbconvert_exporter": "python",
   "pygments_lexer": "ipython3",
   "version": "3.8.3"
  }
 },
 "nbformat": 4,
 "nbformat_minor": 4
}
