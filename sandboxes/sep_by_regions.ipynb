{
 "cells": [
  {
   "cell_type": "markdown",
   "metadata": {},
   "source": [
    "# Sorting SEP events with our database by the SRS region"
   ]
  },
  {
   "cell_type": "markdown",
   "metadata": {},
   "source": [
    "#### So, there are ~100 valid srs_region entries from the SEP database. There are over 900 matching entries in the big dataframe. So, we'll use this as a filter before appyling the 'nearest-date' function, and see where that leaves us!"
   ]
  },
  {
   "cell_type": "code",
   "execution_count": 1,
   "metadata": {},
   "outputs": [],
   "source": [
    "# Packages\n",
    "import pandas as pd\n",
    "import numpy as np\n",
    "import matplotlib.pyplot as plt\n",
    "import matplotlib.ticker as ticker\n",
    "from matplotlib.ticker import (MultipleLocator, FormatStrFormatter, AutoMinorLocator)\n",
    "from matplotlib.dates import DateFormatter\n",
    "import datetime as dt\n",
    "from datetime import timedelta"
   ]
  },
  {
   "cell_type": "code",
   "execution_count": 2,
   "metadata": {},
   "outputs": [],
   "source": [
    "# Reading in the dataframes\n",
    "custom_df1 = 'C:/Users/Peter/py_projects/solar_stats/custom_df.p'\n",
    "custom_df2 = 'C:/Users/Peter/py_projects/solar_stats/custom_sep.p'\n",
    "df = pd.read_pickle(custom_df1)\n",
    "sp = pd.read_pickle(custom_df2)"
   ]
  },
  {
   "cell_type": "code",
   "execution_count": 3,
   "metadata": {},
   "outputs": [],
   "source": [
    "# df data\n",
    "all_regions = df.srs_active_region_no.dropna(how='any').astype(float)"
   ]
  },
  {
   "cell_type": "code",
   "execution_count": 4,
   "metadata": {},
   "outputs": [
    {
     "name": "stdout",
     "output_type": "stream",
     "text": [
      "23      Filament\n",
      "26    9212,13,18\n",
      "Name: region, dtype: object\n"
     ]
    }
   ],
   "source": [
    "# SEP data\n",
    "sp_regions = sp.region.dropna(how='any')\n",
    "print(sp_regions[pd.to_numeric(sp_regions, errors='coerce').isnull()])"
   ]
  },
  {
   "cell_type": "code",
   "execution_count": 5,
   "metadata": {},
   "outputs": [],
   "source": [
    "sp_regions.replace('9212,13,18','9212', regex=True, inplace=True)\n",
    "sp_regions.replace('Filament', np.nan, regex=True, inplace=True)"
   ]
  },
  {
   "cell_type": "code",
   "execution_count": 6,
   "metadata": {},
   "outputs": [],
   "source": [
    "# Dropping the 'filament' nan\n",
    "sp_regions = sp_regions.dropna(how='any').astype(float)"
   ]
  },
  {
   "cell_type": "code",
   "execution_count": 7,
   "metadata": {},
   "outputs": [],
   "source": [
    "# Looking at which entries in all_regions match any from sp_regions\n",
    "bools = all_regions.isin(sp_regions)\n",
    "\n",
    "# keeping entries of boolean True only\n",
    "bools = bools[bools]"
   ]
  },
  {
   "cell_type": "code",
   "execution_count": 8,
   "metadata": {},
   "outputs": [],
   "source": [
    "# Getting the True indices and using to create a new filtered df \n",
    "idx = bools.index.tolist()\n",
    "df2 = df.loc[idx]"
   ]
  },
  {
   "cell_type": "code",
   "execution_count": 9,
   "metadata": {},
   "outputs": [],
   "source": [
    "# Properties to look at (limiting to max and min dates from the SEP data)\n",
    "fls = df2[['flare_start_time', 'flare_peak_time', 'cme_speed', 'srs_active_region_no']]\n",
    "fls = fls.dropna(how='any')\n",
    "fls = fls[ (fls['flare_start_time'] >= dt.datetime(1997, 11, 4)) & (fls['flare_start_time'] <= dt.datetime(2017, 9, 6)) ] \n",
    "fls = fls.reset_index(drop=True)\n",
    "\n",
    "spf = sp[['proton_flux', 'flare_max', 'region']]\n",
    "spf = spf.dropna(how='any')\n",
    "spf = spf.reset_index(drop=True)"
   ]
  },
  {
   "cell_type": "code",
   "execution_count": 10,
   "metadata": {},
   "outputs": [],
   "source": [
    "# found this online to find the value in the 'items' column closest to the 'pivot' value\n",
    "def nearest(items, pivot):\n",
    "    return min(items, key=lambda x: abs(x - pivot))"
   ]
  },
  {
   "cell_type": "code",
   "execution_count": 11,
   "metadata": {},
   "outputs": [],
   "source": [
    "# Finding all the nearest values for the flare_peak_time to the SEP flare_max \n",
    "both = (np.zeros(len(spf.flare_max))).astype('O')\n",
    "for i in range(len(both)):\n",
    "    both[i] = nearest(fls.flare_peak_time, spf.flare_max.iloc[i])"
   ]
  },
  {
   "cell_type": "code",
   "execution_count": 12,
   "metadata": {},
   "outputs": [],
   "source": [
    "# Now getting the indices for these nearest values\n",
    "idxb = np.zeros(len(both))\n",
    "for j in range(len(idxb)):\n",
    "    b = fls['flare_peak_time'].index[fls.flare_peak_time==both[j]].tolist()\n",
    "    idxb[j] = b[0]"
   ]
  },
  {
   "cell_type": "code",
   "execution_count": 13,
   "metadata": {},
   "outputs": [],
   "source": [
    "# Now to keep only the corresponding data for these entries\n",
    "fls2 = fls.loc[idxb]"
   ]
  },
  {
   "cell_type": "code",
   "execution_count": 14,
   "metadata": {},
   "outputs": [
    {
     "data": {
      "text/html": [
       "<div>\n",
       "<style scoped>\n",
       "    .dataframe tbody tr th:only-of-type {\n",
       "        vertical-align: middle;\n",
       "    }\n",
       "\n",
       "    .dataframe tbody tr th {\n",
       "        vertical-align: top;\n",
       "    }\n",
       "\n",
       "    .dataframe thead th {\n",
       "        text-align: right;\n",
       "    }\n",
       "</style>\n",
       "<table border=\"1\" class=\"dataframe\">\n",
       "  <thead>\n",
       "    <tr style=\"text-align: right;\">\n",
       "      <th></th>\n",
       "      <th>flare_start_time</th>\n",
       "      <th>flare_peak_time</th>\n",
       "      <th>cme_speed</th>\n",
       "      <th>srs_active_region_no</th>\n",
       "    </tr>\n",
       "  </thead>\n",
       "  <tbody>\n",
       "    <tr>\n",
       "      <th>0.0</th>\n",
       "      <td>1997-11-04 05:52:00</td>\n",
       "      <td>1997-11-04 05:58:00</td>\n",
       "      <td>785.0</td>\n",
       "      <td>8100</td>\n",
       "    </tr>\n",
       "    <tr>\n",
       "      <th>2.0</th>\n",
       "      <td>1997-11-06 03:12:00</td>\n",
       "      <td>1997-11-06 03:18:00</td>\n",
       "      <td>307.0</td>\n",
       "      <td>8100</td>\n",
       "    </tr>\n",
       "    <tr>\n",
       "      <th>5.0</th>\n",
       "      <td>1998-04-25 14:02:00</td>\n",
       "      <td>1998-04-25 14:39:00</td>\n",
       "      <td>349.0</td>\n",
       "      <td>8210</td>\n",
       "    </tr>\n",
       "    <tr>\n",
       "      <th>12.0</th>\n",
       "      <td>1998-05-02 13:31:00</td>\n",
       "      <td>1998-05-02 13:42:00</td>\n",
       "      <td>938.0</td>\n",
       "      <td>8210</td>\n",
       "    </tr>\n",
       "    <tr>\n",
       "      <th>15.0</th>\n",
       "      <td>1998-05-05 23:27:00</td>\n",
       "      <td>1998-05-05 23:46:00</td>\n",
       "      <td>786.0</td>\n",
       "      <td>8210</td>\n",
       "    </tr>\n",
       "    <tr>\n",
       "      <th>...</th>\n",
       "      <td>...</td>\n",
       "      <td>...</td>\n",
       "      <td>...</td>\n",
       "      <td>...</td>\n",
       "    </tr>\n",
       "    <tr>\n",
       "      <th>841.0</th>\n",
       "      <td>2014-02-20 07:26:00</td>\n",
       "      <td>2014-02-20 07:56:00</td>\n",
       "      <td>948.0</td>\n",
       "      <td>1976</td>\n",
       "    </tr>\n",
       "    <tr>\n",
       "      <th>845.0</th>\n",
       "      <td>2014-02-25 00:39:00</td>\n",
       "      <td>2014-02-25 00:49:00</td>\n",
       "      <td>2147.0</td>\n",
       "      <td>1990</td>\n",
       "    </tr>\n",
       "    <tr>\n",
       "      <th>848.0</th>\n",
       "      <td>2015-06-18 00:33:00</td>\n",
       "      <td>2015-06-18 01:27:00</td>\n",
       "      <td>1714.0</td>\n",
       "      <td>2365</td>\n",
       "    </tr>\n",
       "    <tr>\n",
       "      <th>883.0</th>\n",
       "      <td>2016-01-01 22:25:00</td>\n",
       "      <td>2016-01-01 22:30:00</td>\n",
       "      <td>1730.0</td>\n",
       "      <td>2473</td>\n",
       "    </tr>\n",
       "    <tr>\n",
       "      <th>886.0</th>\n",
       "      <td>2017-09-04 19:59:00</td>\n",
       "      <td>2017-09-04 20:02:00</td>\n",
       "      <td>1418.0</td>\n",
       "      <td>2673</td>\n",
       "    </tr>\n",
       "  </tbody>\n",
       "</table>\n",
       "<p>102 rows × 4 columns</p>\n",
       "</div>"
      ],
      "text/plain": [
       "         flare_start_time     flare_peak_time  cme_speed srs_active_region_no\n",
       "0.0   1997-11-04 05:52:00 1997-11-04 05:58:00      785.0                 8100\n",
       "2.0   1997-11-06 03:12:00 1997-11-06 03:18:00      307.0                 8100\n",
       "5.0   1998-04-25 14:02:00 1998-04-25 14:39:00      349.0                 8210\n",
       "12.0  1998-05-02 13:31:00 1998-05-02 13:42:00      938.0                 8210\n",
       "15.0  1998-05-05 23:27:00 1998-05-05 23:46:00      786.0                 8210\n",
       "...                   ...                 ...        ...                  ...\n",
       "841.0 2014-02-20 07:26:00 2014-02-20 07:56:00      948.0                 1976\n",
       "845.0 2014-02-25 00:39:00 2014-02-25 00:49:00     2147.0                 1990\n",
       "848.0 2015-06-18 00:33:00 2015-06-18 01:27:00     1714.0                 2365\n",
       "883.0 2016-01-01 22:25:00 2016-01-01 22:30:00     1730.0                 2473\n",
       "886.0 2017-09-04 19:59:00 2017-09-04 20:02:00     1418.0                 2673\n",
       "\n",
       "[102 rows x 4 columns]"
      ]
     },
     "execution_count": 14,
     "metadata": {},
     "output_type": "execute_result"
    }
   ],
   "source": [
    "fls2"
   ]
  },
  {
   "cell_type": "code",
   "execution_count": 15,
   "metadata": {},
   "outputs": [
    {
     "data": {
      "text/html": [
       "<div>\n",
       "<style scoped>\n",
       "    .dataframe tbody tr th:only-of-type {\n",
       "        vertical-align: middle;\n",
       "    }\n",
       "\n",
       "    .dataframe tbody tr th {\n",
       "        vertical-align: top;\n",
       "    }\n",
       "\n",
       "    .dataframe thead th {\n",
       "        text-align: right;\n",
       "    }\n",
       "</style>\n",
       "<table border=\"1\" class=\"dataframe\">\n",
       "  <thead>\n",
       "    <tr style=\"text-align: right;\">\n",
       "      <th></th>\n",
       "      <th>proton_flux</th>\n",
       "      <th>flare_max</th>\n",
       "      <th>region</th>\n",
       "    </tr>\n",
       "  </thead>\n",
       "  <tbody>\n",
       "    <tr>\n",
       "      <th>0</th>\n",
       "      <td>72</td>\n",
       "      <td>1997-11-04 05:58:00</td>\n",
       "      <td>8100</td>\n",
       "    </tr>\n",
       "    <tr>\n",
       "      <th>1</th>\n",
       "      <td>490</td>\n",
       "      <td>1997-11-06 11:55:00</td>\n",
       "      <td>8100</td>\n",
       "    </tr>\n",
       "    <tr>\n",
       "      <th>2</th>\n",
       "      <td>1700</td>\n",
       "      <td>1998-04-20 10:21:00</td>\n",
       "      <td>8194</td>\n",
       "    </tr>\n",
       "    <tr>\n",
       "      <th>3</th>\n",
       "      <td>150</td>\n",
       "      <td>1998-05-02 13:42:00</td>\n",
       "      <td>8210</td>\n",
       "    </tr>\n",
       "    <tr>\n",
       "      <th>4</th>\n",
       "      <td>210</td>\n",
       "      <td>1998-05-06 08:09:00</td>\n",
       "      <td>8210</td>\n",
       "    </tr>\n",
       "    <tr>\n",
       "      <th>...</th>\n",
       "      <td>...</td>\n",
       "      <td>...</td>\n",
       "      <td>...</td>\n",
       "    </tr>\n",
       "    <tr>\n",
       "      <th>97</th>\n",
       "      <td>22</td>\n",
       "      <td>2014-02-20 07:56:00</td>\n",
       "      <td>1976</td>\n",
       "    </tr>\n",
       "    <tr>\n",
       "      <th>98</th>\n",
       "      <td>103</td>\n",
       "      <td>2014-02-25 00:49:00</td>\n",
       "      <td>1990</td>\n",
       "    </tr>\n",
       "    <tr>\n",
       "      <th>99</th>\n",
       "      <td>16</td>\n",
       "      <td>2015-06-18 01:27:00</td>\n",
       "      <td>2365</td>\n",
       "    </tr>\n",
       "    <tr>\n",
       "      <th>100</th>\n",
       "      <td>21</td>\n",
       "      <td>2016-01-02 00:11:00</td>\n",
       "      <td>2473</td>\n",
       "    </tr>\n",
       "    <tr>\n",
       "      <th>101</th>\n",
       "      <td>210</td>\n",
       "      <td>2017-09-04 20:33:00</td>\n",
       "      <td>2673</td>\n",
       "    </tr>\n",
       "  </tbody>\n",
       "</table>\n",
       "<p>102 rows × 3 columns</p>\n",
       "</div>"
      ],
      "text/plain": [
       "     proton_flux           flare_max region\n",
       "0             72 1997-11-04 05:58:00   8100\n",
       "1            490 1997-11-06 11:55:00   8100\n",
       "2           1700 1998-04-20 10:21:00   8194\n",
       "3            150 1998-05-02 13:42:00   8210\n",
       "4            210 1998-05-06 08:09:00   8210\n",
       "..           ...                 ...    ...\n",
       "97            22 2014-02-20 07:56:00   1976\n",
       "98           103 2014-02-25 00:49:00   1990\n",
       "99            16 2015-06-18 01:27:00   2365\n",
       "100           21 2016-01-02 00:11:00   2473\n",
       "101          210 2017-09-04 20:33:00   2673\n",
       "\n",
       "[102 rows x 3 columns]"
      ]
     },
     "execution_count": 15,
     "metadata": {},
     "output_type": "execute_result"
    }
   ],
   "source": [
    "spf"
   ]
  },
  {
   "cell_type": "code",
   "execution_count": 16,
   "metadata": {},
   "outputs": [
    {
     "data": {
      "image/png": "[encoded data removed]",
      "text/plain": [
       "<Figure size 864x576 with 2 Axes>"
      ]
     },
     "metadata": {},
     "output_type": "display_data"
    }
   ],
   "source": [
    "fig, ax = plt.subplots(figsize=[12, 8], facecolor='white')\n",
    "\n",
    "sct = ax.scatter(fls2.cme_speed, np.log10(spf.proton_flux), c=spf.flare_max)\n",
    "ax.set_title('CME Speed vs Proton Flux (1997 - 2017)', fontsize=18)\n",
    "ax.set_xlabel('Speed [km/s]', fontsize=14)\n",
    "ax.set_ylabel('log10 Proton flux (pfu)', fontsize=14)\n",
    "\n",
    "ax.tick_params(axis=\"x\", labelsize=14)\n",
    "ax.tick_params(axis=\"y\", labelsize=14)\n",
    "ax.set_xlim([0,3000])\n",
    "\n",
    "ax.xaxis.set_minor_locator(MultipleLocator(100))\n",
    "ax.tick_params(axis='both', length=5, top=True, right=True, direction='in', width=1)\n",
    "ax.tick_params(axis='both', length=2, top=True, right=True, direction='in', which='minor', width=1)\n",
    "\n",
    "cbar = plt.colorbar(sct, orientation='vertical', shrink=1, ticks=[0.879E18, 1.5045E18])\n",
    "cbar.ax.set_yticklabels(['Nov 1997', 'Aug 2017'], fontsize=14)\n",
    "\n",
    "#plt.savefig('speed_pfu.png', dpi=300, bbox_inches=\"tight\", pad_inches=1)\n",
    "plt.show()"
   ]
  },
  {
   "cell_type": "markdown",
   "metadata": {},
   "source": [
    "## Could try filtering by location (lat-lon)"
   ]
  },
  {
   "cell_type": "code",
   "execution_count": 17,
   "metadata": {},
   "outputs": [],
   "source": [
    "# df data\n",
    "all_loc = df.srs_string_latlon.dropna(how='any')\n",
    "sp_loc = sp.location.dropna(how='any')"
   ]
  },
  {
   "cell_type": "code",
   "execution_count": 60,
   "metadata": {},
   "outputs": [],
   "source": [
    "test = all_loc.isin(sp_loc)\n",
    "test = test[test]"
   ]
  },
  {
   "cell_type": "code",
   "execution_count": 61,
   "metadata": {},
   "outputs": [
    {
     "data": {
      "text/plain": [
       "670      True\n",
       "2124     True\n",
       "2212     True\n",
       "2475     True\n",
       "3054     True\n",
       "         ... \n",
       "26275    True\n",
       "27223    True\n",
       "27334    True\n",
       "27405    True\n",
       "28778    True\n",
       "Name: srs_string_latlon, Length: 108, dtype: bool"
      ]
     },
     "execution_count": 61,
     "metadata": {},
     "output_type": "execute_result"
    }
   ],
   "source": [
    "test"
   ]
  },
  {
   "cell_type": "code",
   "execution_count": null,
   "metadata": {},
   "outputs": [],
   "source": []
  }
 ],
 "metadata": {
  "kernelspec": {
   "display_name": "Python 3",
   "language": "python",
   "name": "python3"
  },
  "language_info": {
   "codemirror_mode": {
    "name": "ipython",
    "version": 3
   },
   "file_extension": ".py",
   "mimetype": "text/x-python",
   "name": "python",
   "nbconvert_exporter": "python",
   "pygments_lexer": "ipython3",
   "version": "3.8.3"
  }
 },
 "nbformat": 4,
 "nbformat_minor": 4
}
