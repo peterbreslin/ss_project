{
 "cells": [
  {
   "cell_type": "markdown",
   "metadata": {},
   "source": [
    "# CME + Flare Locations"
   ]
  },
  {
   "cell_type": "code",
   "execution_count": 1,
   "metadata": {},
   "outputs": [],
   "source": [
    "# Packages\n",
    "import pandas as pd\n",
    "import numpy as np\n",
    "import matplotlib.pyplot as plt"
   ]
  },
  {
   "cell_type": "code",
   "execution_count": 2,
   "metadata": {},
   "outputs": [],
   "source": [
    "# Defining the path for the dataframe\n",
    "dataframe = 'C:/Users/Peter/py_projects/solar_stats/custom_df.p'\n",
    "\n",
    "# Importing the dataframe \n",
    "df = pd.read_pickle(dataframe)"
   ]
  },
  {
   "cell_type": "code",
   "execution_count": 3,
   "metadata": {},
   "outputs": [],
   "source": [
    "# Gathering the CME, Flare, and Sunspot properties\n",
    "cme = df[['cme_time', 'cme_speed', 'cme_halo']]\n",
    "fls = df[['flare_peak_time', 'goes_flux']]\n",
    "spts = df[['smart_observation_time', 'smart_total_area', 'smart_total_flux']]\n",
    "\n",
    "# Removing the rows containing any NaN values\n",
    "cme = cme.dropna(how='any')\n",
    "fls = fls.dropna(how='any')\n",
    "spts = spts.dropna(how='any')\n",
    "\n",
    "# Re-organising the indices\n",
    "cme = cme.reset_index(drop=True)\n",
    "fls = cme.reset_index(drop=True)\n",
    "spts = spts.reset_index(drop=True)"
   ]
  },
  {
   "cell_type": "code",
   "execution_count": null,
   "metadata": {},
   "outputs": [],
   "source": []
  }
 ],
 "metadata": {
  "kernelspec": {
   "display_name": "Python 3",
   "language": "python",
   "name": "python3"
  },
  "language_info": {
   "codemirror_mode": {
    "name": "ipython",
    "version": 3
   },
   "file_extension": ".py",
   "mimetype": "text/x-python",
   "name": "python",
   "nbconvert_exporter": "python",
   "pygments_lexer": "ipython3",
   "version": "3.8.3"
  }
 },
 "nbformat": 4,
 "nbformat_minor": 4
}
